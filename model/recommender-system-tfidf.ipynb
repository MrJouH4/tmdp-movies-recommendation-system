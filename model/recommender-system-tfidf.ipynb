{
 "cells": [
  {
   "cell_type": "code",
   "execution_count": 1,
   "metadata": {
    "_cell_guid": "b1076dfc-b9ad-4769-8c92-a6c4dae69d19",
    "_uuid": "8f2839f25d086af736a60e9eeb907d3b93b6e0e5",
    "execution": {
     "iopub.execute_input": "2024-04-09T22:48:31.232238Z",
     "iopub.status.busy": "2024-04-09T22:48:31.231786Z",
     "iopub.status.idle": "2024-04-09T22:48:31.238952Z",
     "shell.execute_reply": "2024-04-09T22:48:31.237554Z",
     "shell.execute_reply.started": "2024-04-09T22:48:31.232208Z"
    }
   },
   "outputs": [],
   "source": [
    "import numpy as np\n",
    "import pandas as pd\n",
    "import spacy\n",
    "from sklearn.feature_extraction.text import TfidfVectorizer\n",
    "from sklearn.metrics.pairwise import cosine_similarity\n",
    "import pickle"
   ]
  },
  {
   "cell_type": "code",
   "execution_count": 2,
   "metadata": {
    "execution": {
     "iopub.execute_input": "2024-04-09T22:12:18.821995Z",
     "iopub.status.busy": "2024-04-09T22:12:18.821011Z",
     "iopub.status.idle": "2024-04-09T22:12:18.911634Z",
     "shell.execute_reply": "2024-04-09T22:12:18.910446Z",
     "shell.execute_reply.started": "2024-04-09T22:12:18.821957Z"
    }
   },
   "outputs": [
    {
     "data": {
      "text/html": [
       "<div>\n",
       "<style scoped>\n",
       "    .dataframe tbody tr th:only-of-type {\n",
       "        vertical-align: middle;\n",
       "    }\n",
       "\n",
       "    .dataframe tbody tr th {\n",
       "        vertical-align: top;\n",
       "    }\n",
       "\n",
       "    .dataframe thead th {\n",
       "        text-align: right;\n",
       "    }\n",
       "</style>\n",
       "<table border=\"1\" class=\"dataframe\">\n",
       "  <thead>\n",
       "    <tr style=\"text-align: right;\">\n",
       "      <th></th>\n",
       "      <th>id</th>\n",
       "      <th>title</th>\n",
       "      <th>genre</th>\n",
       "      <th>original_language</th>\n",
       "      <th>overview</th>\n",
       "      <th>popularity</th>\n",
       "      <th>release_date</th>\n",
       "      <th>vote_average</th>\n",
       "      <th>vote_count</th>\n",
       "    </tr>\n",
       "  </thead>\n",
       "  <tbody>\n",
       "    <tr>\n",
       "      <th>0</th>\n",
       "      <td>278</td>\n",
       "      <td>The Shawshank Redemption</td>\n",
       "      <td>Drama,Crime</td>\n",
       "      <td>en</td>\n",
       "      <td>Framed in the 1940s for the double murder of h...</td>\n",
       "      <td>94.075</td>\n",
       "      <td>1994-09-23</td>\n",
       "      <td>8.7</td>\n",
       "      <td>21862</td>\n",
       "    </tr>\n",
       "    <tr>\n",
       "      <th>1</th>\n",
       "      <td>19404</td>\n",
       "      <td>Dilwale Dulhania Le Jayenge</td>\n",
       "      <td>Comedy,Drama,Romance</td>\n",
       "      <td>hi</td>\n",
       "      <td>Raj is a rich, carefree, happy-go-lucky second...</td>\n",
       "      <td>25.408</td>\n",
       "      <td>1995-10-19</td>\n",
       "      <td>8.7</td>\n",
       "      <td>3731</td>\n",
       "    </tr>\n",
       "    <tr>\n",
       "      <th>2</th>\n",
       "      <td>238</td>\n",
       "      <td>The Godfather</td>\n",
       "      <td>Drama,Crime</td>\n",
       "      <td>en</td>\n",
       "      <td>Spanning the years 1945 to 1955, a chronicle o...</td>\n",
       "      <td>90.585</td>\n",
       "      <td>1972-03-14</td>\n",
       "      <td>8.7</td>\n",
       "      <td>16280</td>\n",
       "    </tr>\n",
       "    <tr>\n",
       "      <th>3</th>\n",
       "      <td>424</td>\n",
       "      <td>Schindler's List</td>\n",
       "      <td>Drama,History,War</td>\n",
       "      <td>en</td>\n",
       "      <td>The true story of how businessman Oskar Schind...</td>\n",
       "      <td>44.761</td>\n",
       "      <td>1993-12-15</td>\n",
       "      <td>8.6</td>\n",
       "      <td>12959</td>\n",
       "    </tr>\n",
       "    <tr>\n",
       "      <th>4</th>\n",
       "      <td>240</td>\n",
       "      <td>The Godfather: Part II</td>\n",
       "      <td>Drama,Crime</td>\n",
       "      <td>en</td>\n",
       "      <td>In the continuing saga of the Corleone crime f...</td>\n",
       "      <td>57.749</td>\n",
       "      <td>1974-12-20</td>\n",
       "      <td>8.6</td>\n",
       "      <td>9811</td>\n",
       "    </tr>\n",
       "  </tbody>\n",
       "</table>\n",
       "</div>"
      ],
      "text/plain": [
       "      id                        title                 genre original_language  \\\n",
       "0    278     The Shawshank Redemption           Drama,Crime                en   \n",
       "1  19404  Dilwale Dulhania Le Jayenge  Comedy,Drama,Romance                hi   \n",
       "2    238                The Godfather           Drama,Crime                en   \n",
       "3    424             Schindler's List     Drama,History,War                en   \n",
       "4    240       The Godfather: Part II           Drama,Crime                en   \n",
       "\n",
       "                                            overview  popularity release_date  \\\n",
       "0  Framed in the 1940s for the double murder of h...      94.075   1994-09-23   \n",
       "1  Raj is a rich, carefree, happy-go-lucky second...      25.408   1995-10-19   \n",
       "2  Spanning the years 1945 to 1955, a chronicle o...      90.585   1972-03-14   \n",
       "3  The true story of how businessman Oskar Schind...      44.761   1993-12-15   \n",
       "4  In the continuing saga of the Corleone crime f...      57.749   1974-12-20   \n",
       "\n",
       "   vote_average  vote_count  \n",
       "0           8.7       21862  \n",
       "1           8.7        3731  \n",
       "2           8.7       16280  \n",
       "3           8.6       12959  \n",
       "4           8.6        9811  "
      ]
     },
     "execution_count": 2,
     "metadata": {},
     "output_type": "execute_result"
    }
   ],
   "source": [
    "df = pd.read_csv(\"./data/top10K-TMDB-movies.csv\")\n",
    "df.head()"
   ]
  },
  {
   "cell_type": "code",
   "execution_count": 3,
   "metadata": {
    "execution": {
     "iopub.execute_input": "2024-04-09T22:12:19.102572Z",
     "iopub.status.busy": "2024-04-09T22:12:19.102161Z",
     "iopub.status.idle": "2024-04-09T22:12:19.109188Z",
     "shell.execute_reply": "2024-04-09T22:12:19.108016Z",
     "shell.execute_reply.started": "2024-04-09T22:12:19.102538Z"
    }
   },
   "outputs": [],
   "source": [
    "columns = [\"id\", \"title\", \"genre\", \"overview\"]\n",
    "df = df[columns]"
   ]
  },
  {
   "cell_type": "code",
   "execution_count": 4,
   "metadata": {
    "execution": {
     "iopub.execute_input": "2024-04-09T22:12:19.840212Z",
     "iopub.status.busy": "2024-04-09T22:12:19.839489Z",
     "iopub.status.idle": "2024-04-09T22:12:19.855235Z",
     "shell.execute_reply": "2024-04-09T22:12:19.854304Z",
     "shell.execute_reply.started": "2024-04-09T22:12:19.840167Z"
    }
   },
   "outputs": [
    {
     "name": "stdout",
     "output_type": "stream",
     "text": [
      "<class 'pandas.core.frame.DataFrame'>\n",
      "RangeIndex: 10000 entries, 0 to 9999\n",
      "Data columns (total 4 columns):\n",
      " #   Column    Non-Null Count  Dtype \n",
      "---  ------    --------------  ----- \n",
      " 0   id        10000 non-null  int64 \n",
      " 1   title     10000 non-null  object\n",
      " 2   genre     9997 non-null   object\n",
      " 3   overview  9987 non-null   object\n",
      "dtypes: int64(1), object(3)\n",
      "memory usage: 312.6+ KB\n"
     ]
    }
   ],
   "source": [
    "df.info()"
   ]
  },
  {
   "cell_type": "code",
   "execution_count": 5,
   "metadata": {
    "execution": {
     "iopub.execute_input": "2024-04-09T22:12:22.057630Z",
     "iopub.status.busy": "2024-04-09T22:12:22.056364Z",
     "iopub.status.idle": "2024-04-09T22:12:22.067411Z",
     "shell.execute_reply": "2024-04-09T22:12:22.066320Z",
     "shell.execute_reply.started": "2024-04-09T22:12:22.057558Z"
    }
   },
   "outputs": [],
   "source": [
    "df.dropna(inplace=True)"
   ]
  },
  {
   "cell_type": "code",
   "execution_count": 6,
   "metadata": {
    "execution": {
     "iopub.execute_input": "2024-04-09T22:12:23.758535Z",
     "iopub.status.busy": "2024-04-09T22:12:23.757447Z",
     "iopub.status.idle": "2024-04-09T22:12:23.770938Z",
     "shell.execute_reply": "2024-04-09T22:12:23.769614Z",
     "shell.execute_reply.started": "2024-04-09T22:12:23.758500Z"
    }
   },
   "outputs": [],
   "source": [
    "df['tags'] = df['genre'] + ' ' + df['overview']\n",
    "df.drop(columns=[\"genre\", \"overview\"], inplace=True)"
   ]
  },
  {
   "cell_type": "code",
   "execution_count": 7,
   "metadata": {
    "execution": {
     "iopub.execute_input": "2024-04-09T22:12:28.559241Z",
     "iopub.status.busy": "2024-04-09T22:12:28.558636Z",
     "iopub.status.idle": "2024-04-09T22:12:28.565856Z",
     "shell.execute_reply": "2024-04-09T22:12:28.564933Z",
     "shell.execute_reply.started": "2024-04-09T22:12:28.559210Z"
    }
   },
   "outputs": [
    {
     "data": {
      "text/plain": [
       "'Drama,Crime Framed in the 1940s for the double murder of his wife and her lover, upstanding banker Andy Dufresne begins a new life at the Shawshank prison, where he puts his accounting skills to work for an amoral warden. During his long stretch in prison, Dufresne comes to be admired by the other inmates -- including an older prisoner named Red -- for his integrity and unquenchable sense of hope.'"
      ]
     },
     "execution_count": 7,
     "metadata": {},
     "output_type": "execute_result"
    }
   ],
   "source": [
    "df[\"tags\"][0]"
   ]
  },
  {
   "cell_type": "code",
   "execution_count": 11,
   "metadata": {},
   "outputs": [],
   "source": [
    "df.to_csv(\"./data/top10K-TMDB-movies_with_tags.csv\", index=False)"
   ]
  },
  {
   "cell_type": "code",
   "execution_count": 8,
   "metadata": {
    "execution": {
     "iopub.execute_input": "2024-04-09T22:16:16.152933Z",
     "iopub.status.busy": "2024-04-09T22:16:16.151573Z",
     "iopub.status.idle": "2024-04-09T22:16:16.683317Z",
     "shell.execute_reply": "2024-04-09T22:16:16.682152Z",
     "shell.execute_reply.started": "2024-04-09T22:16:16.152887Z"
    }
   },
   "outputs": [],
   "source": [
    "tfidf = TfidfVectorizer(stop_words=\"english\")\n",
    "tfidf_matrix = tfidf.fit_transform(df[\"tags\"])"
   ]
  },
  {
   "cell_type": "code",
   "execution_count": 9,
   "metadata": {
    "execution": {
     "iopub.execute_input": "2024-04-09T22:19:35.866133Z",
     "iopub.status.busy": "2024-04-09T22:19:35.865722Z",
     "iopub.status.idle": "2024-04-09T22:19:35.886591Z",
     "shell.execute_reply": "2024-04-09T22:19:35.885447Z",
     "shell.execute_reply.started": "2024-04-09T22:19:35.866102Z"
    }
   },
   "outputs": [
    {
     "data": {
      "text/plain": [
       "array([ 969, 3992, 3562, 8906, 2100, 7017, 7365, 1813, 6835, 7518],\n",
       "      dtype=int64)"
      ]
     },
     "execution_count": 9,
     "metadata": {},
     "output_type": "execute_result"
    }
   ],
   "source": [
    "movie_title = \"Iron Man\"\n",
    "movie_matrix = tfidf.transform(df[df.title == movie_title].tags)\n",
    "similarity_scores = cosine_similarity(movie_matrix, tfidf_matrix)\n",
    "top_similar_indices = similarity_scores.argsort()[0][::-1][:10]\n",
    "top_similar_indices"
   ]
  },
  {
   "cell_type": "code",
   "execution_count": 10,
   "metadata": {
    "execution": {
     "iopub.execute_input": "2024-04-09T22:53:13.329943Z",
     "iopub.status.busy": "2024-04-09T22:53:13.329504Z",
     "iopub.status.idle": "2024-04-09T22:53:13.338116Z",
     "shell.execute_reply": "2024-04-09T22:53:13.336776Z",
     "shell.execute_reply.started": "2024-04-09T22:53:13.329910Z"
    }
   },
   "outputs": [
    {
     "data": {
      "text/plain": [
       "['Iron Man',\n",
       " 'Iron Man 2',\n",
       " 'Iron Man 3',\n",
       " 'Clown',\n",
       " 'Avengers: Age of Ultron',\n",
       " 'Tau',\n",
       " 'Time Trap',\n",
       " 'Spider-Man: Homecoming',\n",
       " 'The New Mutants',\n",
       " 'Cradle 2 the Grave']"
      ]
     },
     "execution_count": 10,
     "metadata": {},
     "output_type": "execute_result"
    }
   ],
   "source": [
    "df.iloc[top_similar_indices][\"title\"].tolist()"
   ]
  },
  {
   "cell_type": "code",
   "execution_count": 11,
   "metadata": {
    "execution": {
     "iopub.execute_input": "2024-04-09T22:53:22.678421Z",
     "iopub.status.busy": "2024-04-09T22:53:22.677439Z",
     "iopub.status.idle": "2024-04-09T22:53:22.684174Z",
     "shell.execute_reply": "2024-04-09T22:53:22.683055Z",
     "shell.execute_reply.started": "2024-04-09T22:53:22.678381Z"
    }
   },
   "outputs": [],
   "source": [
    "def recommend(movie_title):\n",
    "    movie_matrix = tfidf.transform(df[df.title == movie_title].tags)\n",
    "    similarity_scores = cosine_similarity(movie_matrix, tfidf_matrix)\n",
    "    top_similar_indices = similarity_scores.argsort()[0][::-1][:10]\n",
    "    similar_movies = df.iloc[top_similar_indices][\"title\"].tolist()\n",
    "    return similar_movies"
   ]
  },
  {
   "cell_type": "code",
   "execution_count": 12,
   "metadata": {
    "execution": {
     "iopub.execute_input": "2024-04-09T22:53:57.850472Z",
     "iopub.status.busy": "2024-04-09T22:53:57.850044Z",
     "iopub.status.idle": "2024-04-09T22:53:57.870433Z",
     "shell.execute_reply": "2024-04-09T22:53:57.869402Z",
     "shell.execute_reply.started": "2024-04-09T22:53:57.850444Z"
    }
   },
   "outputs": [
    {
     "data": {
      "text/plain": [
       "['The Godfather',\n",
       " 'The Godfather: Part II',\n",
       " 'The Godfather: Part III',\n",
       " 'Blood Ties',\n",
       " 'Proud Mary',\n",
       " 'The Best of Youth',\n",
       " 'Four Brothers',\n",
       " 'Joe',\n",
       " 'Xtreme',\n",
       " 'Rampart']"
      ]
     },
     "execution_count": 12,
     "metadata": {},
     "output_type": "execute_result"
    }
   ],
   "source": [
    "recommend(\"The Godfather\")"
   ]
  },
  {
   "cell_type": "code",
   "execution_count": 13,
   "metadata": {
    "execution": {
     "iopub.execute_input": "2024-04-09T22:49:28.954471Z",
     "iopub.status.busy": "2024-04-09T22:49:28.954047Z",
     "iopub.status.idle": "2024-04-09T22:49:28.964709Z",
     "shell.execute_reply": "2024-04-09T22:49:28.963391Z",
     "shell.execute_reply.started": "2024-04-09T22:49:28.954441Z"
    }
   },
   "outputs": [],
   "source": [
    "pickle.dump(tfidf_matrix, open(\"tfidf.pkl\", \"wb\"))"
   ]
  },
  {
   "cell_type": "code",
   "execution_count": null,
   "metadata": {},
   "outputs": [],
   "source": []
  }
 ],
 "metadata": {
  "kaggle": {
   "accelerator": "none",
   "dataSources": [
    {
     "datasetId": 2367100,
     "sourceId": 3989073,
     "sourceType": "datasetVersion"
    }
   ],
   "dockerImageVersionId": 30684,
   "isGpuEnabled": false,
   "isInternetEnabled": true,
   "language": "python",
   "sourceType": "notebook"
  },
  "kernelspec": {
   "display_name": "Python 3 (ipykernel)",
   "language": "python",
   "name": "python3"
  },
  "language_info": {
   "codemirror_mode": {
    "name": "ipython",
    "version": 3
   },
   "file_extension": ".py",
   "mimetype": "text/x-python",
   "name": "python",
   "nbconvert_exporter": "python",
   "pygments_lexer": "ipython3",
   "version": "3.11.4"
  }
 },
 "nbformat": 4,
 "nbformat_minor": 4
}
